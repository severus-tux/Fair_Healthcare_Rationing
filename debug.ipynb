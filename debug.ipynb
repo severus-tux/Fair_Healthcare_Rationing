{
 "cells": [
  {
   "cell_type": "code",
   "execution_count": 34,
   "id": "883421ca",
   "metadata": {},
   "outputs": [],
   "source": [
    "import pandas as pd\n",
    "import numpy as np\n",
    "import sys\n",
    "import time as tm\n",
    "from allocation_solution_df import *\n",
    "from vaccine_alloc_instance_df import *\n",
    "from solvers.offline_maxutility_df import *\n",
    "from solvers.online_maxutility_df import *\n",
    "from solvers.online_maxutility_df_1_by_del import *"
   ]
  },
  {
   "cell_type": "code",
   "execution_count": 35,
   "id": "be742222",
   "metadata": {},
   "outputs": [],
   "source": [
    "n = 10\n",
    "c = 2\n",
    "d = 1 \n",
    "q = 4\n",
    "availability = [[1] for i in range(10)]\n",
    "belongsToCatagory = [[1,1] for i in range(10)]\n",
    "Q_d = [4]\n",
    "Q_c = [2,2]\n",
    "delta = [1,1,1,1/2,1/2,1/2,1/3,1/3,1/3,1/3]"
   ]
  },
  {
   "cell_type": "code",
   "execution_count": 36,
   "id": "e59bc903",
   "metadata": {},
   "outputs": [],
   "source": [
    "agents_utility_value = []\n",
    "for i in range(n):\n",
    "    i_utility = [delta[i]]\n",
    "    for j in range(d-1):\n",
    "        i_utility[j+1] = i_utility[j]*delta[i]\n",
    "    agents_utility_value.append(i_utility)"
   ]
  },
  {
   "cell_type": "code",
   "execution_count": null,
   "id": "783492b2",
   "metadata": {},
   "outputs": [],
   "source": [
    "alpha1 = 0.9\n",
    "alpha2 = 0.8\n",
    "alpha3 = 0.7\n",
    "delta_all = 0.96\n",
    "\n",
    "agents_utility_value = []\n"
   ]
  },
  {
   "cell_type": "code",
   "execution_count": 37,
   "id": "0a90096e",
   "metadata": {},
   "outputs": [],
   "source": [
    "# categories = overall_quota_df['Center_ID'].values.tolist()\n",
    "# days = daily_supply_df['Date'].values.tolist()\n",
    "categories = [i for i in range(2)]\n",
    "days = [i for i in range(1)]\n",
    "# categories"
   ]
  },
  {
   "cell_type": "code",
   "execution_count": 38,
   "id": "0f930e8a",
   "metadata": {},
   "outputs": [],
   "source": [
    "# dict_Q_cxd = dict(zip(zip(Hospital_Data_Chennai_May_2022_df.Date, Hospital_Data_Chennai_May_2022_df.Center_ID),Hospital_Data_Chennai_May_2022_df.Total_available_capacity))\n",
    "# # dict_Q_cxd"
   ]
  },
  {
   "cell_type": "code",
   "execution_count": 39,
   "id": "19bb9a97",
   "metadata": {},
   "outputs": [],
   "source": [
    "Q_cxd = [[2],[2]]\n",
    "# for cat in categories:\n",
    "#     c_d = []\n",
    "#     for day in days:\n",
    "#         if (day,cat) in dict_Q_cxd:\n",
    "#             c_d.append(dict_Q_cxd[(day,cat)])\n",
    "#         else:\n",
    "#             c_d.append(0)\n",
    "#     Q_cxd.append(c_d)"
   ]
  },
  {
   "cell_type": "code",
   "execution_count": 40,
   "id": "b1aecb51",
   "metadata": {},
   "outputs": [],
   "source": [
    "instance = VaccineAllocInstance(n,c,d,q,availability,belongsToCatagory,Q_d,Q_c,Q_cxd,agents_utility_value,delta)"
   ]
  },
  {
   "cell_type": "code",
   "execution_count": 41,
   "id": "8eaa979f",
   "metadata": {},
   "outputs": [],
   "source": [
    "LP1 = LPOnlineMaxUtility(instance)\n",
    "# LP1 = LPOnlineMaxUtility_1_by_del(instance)"
   ]
  },
  {
   "cell_type": "code",
   "execution_count": 66,
   "id": "5c27b471",
   "metadata": {},
   "outputs": [
    {
     "name": "stdout",
     "output_type": "stream",
     "text": [
      "Setting up LP...\n",
      "Creating variables...\n",
      "Creating constraints...\n",
      "Solving LP...\n",
      "Welcome to the CBC MILP Solver \n",
      "Version: 2.10.3 \n",
      "Build Date: Dec 15 2019 \n",
      "\n",
      "command line - /home/vishwa/.local/lib/python3.10/site-packages/pulp/apis/../solverdir/cbc/linux/64/cbc /tmp/b4fdb3b0bdd64cd098d020f6ed69fe82-pulp.mps max timeMode elapsed branch printingOptions all solution /tmp/b4fdb3b0bdd64cd098d020f6ed69fe82-pulp.sol (default strategy 1)\n",
      "At line 2 NAME          MODEL\n",
      "At line 3 ROWS\n",
      "At line 19 COLUMNS\n",
      "At line 97 RHS\n",
      "At line 112 BOUNDS\n",
      "At line 147 ENDATA\n",
      "Problem MODEL has 14 rows, 34 columns and 57 elements\n",
      "Coin0008I MODEL read with 0 errors\n",
      "Option for timeMode changed from cpu to elapsed\n",
      "Presolve 12 (-2) rows, 20 (-14) columns and 40 (-17) elements\n",
      "Perturbing problem by 0.001% of 3 - largest nonzero change 6.131727e-05 ( 0.0048307898%) - largest zero change 0\n",
      "0  Obj -0 Dual inf 41.999047 (20)\n",
      "3  Obj 11.999805\n",
      "Optimal - objective value 12\n",
      "After Postsolve, objective 12, infeasibilities - dual 0 (0), primal 0 (0)\n",
      "Optimal objective 12 - 3 iterations time 0.002, Presolve 0.00\n",
      "Option for printingOptions changed from normal to all\n",
      "Total time (CPU seconds):       0.00   (Wallclock seconds):       0.00\n",
      "\n",
      "Done.\n",
      "Total time taken:  0.009631291992263868\n"
     ]
    }
   ],
   "source": [
    "start = tm.perf_counter()\n",
    "sol = LP1.solve()\n",
    "end = tm.perf_counter()\n",
    "print(\"Total time taken: \",end - start)"
   ]
  },
  {
   "cell_type": "code",
   "execution_count": 42,
   "id": "70c9287e",
   "metadata": {},
   "outputs": [
    {
     "ename": "NameError",
     "evalue": "name 'sol' is not defined",
     "output_type": "error",
     "traceback": [
      "\u001b[0;31m---------------------------------------------------------------------------\u001b[0m",
      "\u001b[0;31mNameError\u001b[0m                                 Traceback (most recent call last)",
      "Input \u001b[0;32mIn [42]\u001b[0m, in \u001b[0;36m<cell line: 1>\u001b[0;34m()\u001b[0m\n\u001b[0;32m----> 1\u001b[0m solution \u001b[38;5;241m=\u001b[39m pd\u001b[38;5;241m.\u001b[39mDataFrame(\u001b[43msol\u001b[49m\u001b[38;5;241m.\u001b[39mAllocation, columns\u001b[38;5;241m=\u001b[39m[\u001b[38;5;28mstr\u001b[39m(i) \u001b[38;5;28;01mfor\u001b[39;00m i \u001b[38;5;129;01min\u001b[39;00m \u001b[38;5;28mrange\u001b[39m(\u001b[38;5;241m1\u001b[39m)])\n",
      "\u001b[0;31mNameError\u001b[0m: name 'sol' is not defined"
     ]
    }
   ],
   "source": [
    "solution = pd.DataFrame(sol.Allocation, columns=[str(i) for i in range(1)])"
   ]
  },
  {
   "cell_type": "code",
   "execution_count": 46,
   "id": "c02a3207",
   "metadata": {},
   "outputs": [],
   "source": [
    "solution.to_pickle('Debug_sols/solution1_del.pkl')"
   ]
  },
  {
   "cell_type": "code",
   "execution_count": 67,
   "id": "4dcb6680",
   "metadata": {},
   "outputs": [
    {
     "name": "stdout",
     "output_type": "stream",
     "text": [
      "4.0\n",
      "12.0\n"
     ]
    },
    {
     "data": {
      "text/html": [
       "<div>\n",
       "<style scoped>\n",
       "    .dataframe tbody tr th:only-of-type {\n",
       "        vertical-align: middle;\n",
       "    }\n",
       "\n",
       "    .dataframe tbody tr th {\n",
       "        vertical-align: top;\n",
       "    }\n",
       "\n",
       "    .dataframe thead th {\n",
       "        text-align: right;\n",
       "    }\n",
       "</style>\n",
       "<table border=\"1\" class=\"dataframe\">\n",
       "  <thead>\n",
       "    <tr style=\"text-align: right;\">\n",
       "      <th></th>\n",
       "      <th>0</th>\n",
       "    </tr>\n",
       "  </thead>\n",
       "  <tbody>\n",
       "    <tr>\n",
       "      <th>0</th>\n",
       "      <td>-1</td>\n",
       "    </tr>\n",
       "    <tr>\n",
       "      <th>1</th>\n",
       "      <td>-1</td>\n",
       "    </tr>\n",
       "    <tr>\n",
       "      <th>2</th>\n",
       "      <td>-1</td>\n",
       "    </tr>\n",
       "    <tr>\n",
       "      <th>3</th>\n",
       "      <td>-1</td>\n",
       "    </tr>\n",
       "    <tr>\n",
       "      <th>4</th>\n",
       "      <td>-1</td>\n",
       "    </tr>\n",
       "    <tr>\n",
       "      <th>5</th>\n",
       "      <td>-1</td>\n",
       "    </tr>\n",
       "    <tr>\n",
       "      <th>6</th>\n",
       "      <td>1</td>\n",
       "    </tr>\n",
       "    <tr>\n",
       "      <th>7</th>\n",
       "      <td>0</td>\n",
       "    </tr>\n",
       "    <tr>\n",
       "      <th>8</th>\n",
       "      <td>1</td>\n",
       "    </tr>\n",
       "    <tr>\n",
       "      <th>9</th>\n",
       "      <td>0</td>\n",
       "    </tr>\n",
       "  </tbody>\n",
       "</table>\n",
       "</div>"
      ],
      "text/plain": [
       "   0\n",
       "0 -1\n",
       "1 -1\n",
       "2 -1\n",
       "3 -1\n",
       "4 -1\n",
       "5 -1\n",
       "6  1\n",
       "7  0\n",
       "8  1\n",
       "9  0"
      ]
     },
     "execution_count": 67,
     "metadata": {},
     "output_type": "execute_result"
    }
   ],
   "source": [
    "print(sol.total_flow)\n",
    "print(sol.total_utility)\n",
    "solution"
   ]
  },
  {
   "cell_type": "code",
   "execution_count": 194,
   "id": "ee174f7f",
   "metadata": {},
   "outputs": [],
   "source": [
    "LP2 = LPOfflineMaxUtility(instance)"
   ]
  },
  {
   "cell_type": "code",
   "execution_count": 195,
   "id": "89e65133",
   "metadata": {},
   "outputs": [
    {
     "name": "stdout",
     "output_type": "stream",
     "text": [
      "Welcome to the CBC MILP Solver \n",
      "Version: 2.10.3 \n",
      "Build Date: Dec 15 2019 \n",
      "\n",
      "command line - /home/vishwa/.local/lib/python3.10/site-packages/pulp/apis/../solverdir/cbc/linux/64/cbc /tmp/c01d0facb25e43f2a194a1d453ee3c70-pulp.mps max timeMode elapsed branch printingOptions all solution /tmp/c01d0facb25e43f2a194a1d453ee3c70-pulp.sol (default strategy 1)\n",
      "At line 2 NAME          MODEL\n",
      "At line 3 ROWS\n",
      "At line 19 COLUMNS\n",
      "At line 97 RHS\n",
      "At line 112 BOUNDS\n",
      "At line 147 ENDATA\n",
      "Problem MODEL has 14 rows, 34 columns and 57 elements\n",
      "Coin0008I MODEL read with 0 errors\n",
      "Option for timeMode changed from cpu to elapsed\n",
      "Presolve 12 (-2) rows, 20 (-14) columns and 40 (-17) elements\n",
      "Perturbing problem by 0.001% of 1 - largest nonzero change 4.8101017e-05 ( 0.014430305%) - largest zero change 0\n",
      "0  Obj -0 Dual inf 11.665844 (20)\n",
      "5  Obj 3.4998509\n",
      "Optimal - objective value 3.5\n",
      "After Postsolve, objective 3.5, infeasibilities - dual 0 (0), primal 0 (0)\n",
      "Optimal objective 3.5 - 5 iterations time 0.002, Presolve 0.00\n",
      "Option for printingOptions changed from normal to all\n",
      "Total time (CPU seconds):       0.00   (Wallclock seconds):       0.00\n",
      "\n",
      "Total time taken:  0.00836481200531125\n"
     ]
    }
   ],
   "source": [
    "start = tm.perf_counter()\n",
    "sol2 = LP2.solve()\n",
    "end = tm.perf_counter()\n",
    "print(\"Total time taken: \",end - start)"
   ]
  },
  {
   "cell_type": "code",
   "execution_count": 198,
   "id": "346f4486",
   "metadata": {},
   "outputs": [],
   "source": [
    "solution_off = pd.DataFrame(sol2.Allocation, columns=[str(i) for i in range(1)])"
   ]
  },
  {
   "cell_type": "code",
   "execution_count": 195,
   "id": "b5c96451",
   "metadata": {},
   "outputs": [],
   "source": [
    "solution_off.to_pickle('Solution_offline_df_1_1_by_97_1_by_95_fed_to_offline.pkl')"
   ]
  },
  {
   "cell_type": "code",
   "execution_count": 200,
   "id": "ad99cbfa",
   "metadata": {},
   "outputs": [
    {
     "name": "stdout",
     "output_type": "stream",
     "text": [
      "4.0\n",
      "3.5\n"
     ]
    }
   ],
   "source": [
    "print(sol2.total_flow)\n",
    "print(sol2.total_utility)\n"
   ]
  },
  {
   "cell_type": "code",
   "execution_count": 199,
   "id": "aa6eaa56",
   "metadata": {},
   "outputs": [
    {
     "data": {
      "text/html": [
       "<div>\n",
       "<style scoped>\n",
       "    .dataframe tbody tr th:only-of-type {\n",
       "        vertical-align: middle;\n",
       "    }\n",
       "\n",
       "    .dataframe tbody tr th {\n",
       "        vertical-align: top;\n",
       "    }\n",
       "\n",
       "    .dataframe thead th {\n",
       "        text-align: right;\n",
       "    }\n",
       "</style>\n",
       "<table border=\"1\" class=\"dataframe\">\n",
       "  <thead>\n",
       "    <tr style=\"text-align: right;\">\n",
       "      <th></th>\n",
       "      <th>0</th>\n",
       "    </tr>\n",
       "  </thead>\n",
       "  <tbody>\n",
       "    <tr>\n",
       "      <th>0</th>\n",
       "      <td>0</td>\n",
       "    </tr>\n",
       "    <tr>\n",
       "      <th>1</th>\n",
       "      <td>0</td>\n",
       "    </tr>\n",
       "    <tr>\n",
       "      <th>2</th>\n",
       "      <td>1</td>\n",
       "    </tr>\n",
       "    <tr>\n",
       "      <th>3</th>\n",
       "      <td>1</td>\n",
       "    </tr>\n",
       "    <tr>\n",
       "      <th>4</th>\n",
       "      <td>-1</td>\n",
       "    </tr>\n",
       "    <tr>\n",
       "      <th>5</th>\n",
       "      <td>-1</td>\n",
       "    </tr>\n",
       "    <tr>\n",
       "      <th>6</th>\n",
       "      <td>-1</td>\n",
       "    </tr>\n",
       "    <tr>\n",
       "      <th>7</th>\n",
       "      <td>-1</td>\n",
       "    </tr>\n",
       "    <tr>\n",
       "      <th>8</th>\n",
       "      <td>-1</td>\n",
       "    </tr>\n",
       "    <tr>\n",
       "      <th>9</th>\n",
       "      <td>-1</td>\n",
       "    </tr>\n",
       "  </tbody>\n",
       "</table>\n",
       "</div>"
      ],
      "text/plain": [
       "   0\n",
       "0  0\n",
       "1  0\n",
       "2  1\n",
       "3  1\n",
       "4 -1\n",
       "5 -1\n",
       "6 -1\n",
       "7 -1\n",
       "8 -1\n",
       "9 -1"
      ]
     },
     "execution_count": 199,
     "metadata": {},
     "output_type": "execute_result"
    }
   ],
   "source": [
    "solution_off"
   ]
  },
  {
   "cell_type": "code",
   "execution_count": 42,
   "id": "9ddf5a9b",
   "metadata": {},
   "outputs": [
    {
     "data": {
      "text/plain": [
       "6463.091933411123"
      ]
     },
     "execution_count": 42,
     "metadata": {},
     "output_type": "execute_result"
    }
   ],
   "source": [
    "sol.total_utility"
   ]
  },
  {
   "cell_type": "code",
   "execution_count": 97,
   "id": "eeef9b6b",
   "metadata": {},
   "outputs": [],
   "source": [
    "availability_df = pd.read_pickle('data/availability_df.pkl')"
   ]
  },
  {
   "cell_type": "code",
   "execution_count": 114,
   "id": "b59112e2",
   "metadata": {},
   "outputs": [],
   "source": [
    "agents_delta_value_df = pd.read_pickle('data/agents_delta_values_df_1_98_97.pkl')"
   ]
  },
  {
   "cell_type": "code",
   "execution_count": 115,
   "id": "28808e03",
   "metadata": {},
   "outputs": [
    {
     "data": {
      "text/html": [
       "<div>\n",
       "<style scoped>\n",
       "    .dataframe tbody tr th:only-of-type {\n",
       "        vertical-align: middle;\n",
       "    }\n",
       "\n",
       "    .dataframe tbody tr th {\n",
       "        vertical-align: top;\n",
       "    }\n",
       "\n",
       "    .dataframe thead th {\n",
       "        text-align: right;\n",
       "    }\n",
       "</style>\n",
       "<table border=\"1\" class=\"dataframe\">\n",
       "  <thead>\n",
       "    <tr style=\"text-align: right;\">\n",
       "      <th></th>\n",
       "      <th>Age_group</th>\n",
       "      <th>Delta</th>\n",
       "    </tr>\n",
       "  </thead>\n",
       "  <tbody>\n",
       "    <tr>\n",
       "      <th>0</th>\n",
       "      <td>0</td>\n",
       "      <td>1.00</td>\n",
       "    </tr>\n",
       "    <tr>\n",
       "      <th>1</th>\n",
       "      <td>0</td>\n",
       "      <td>1.00</td>\n",
       "    </tr>\n",
       "    <tr>\n",
       "      <th>2</th>\n",
       "      <td>0</td>\n",
       "      <td>1.00</td>\n",
       "    </tr>\n",
       "    <tr>\n",
       "      <th>3</th>\n",
       "      <td>1</td>\n",
       "      <td>0.98</td>\n",
       "    </tr>\n",
       "    <tr>\n",
       "      <th>4</th>\n",
       "      <td>0</td>\n",
       "      <td>1.00</td>\n",
       "    </tr>\n",
       "    <tr>\n",
       "      <th>...</th>\n",
       "      <td>...</td>\n",
       "      <td>...</td>\n",
       "    </tr>\n",
       "    <tr>\n",
       "      <th>9995</th>\n",
       "      <td>2</td>\n",
       "      <td>0.97</td>\n",
       "    </tr>\n",
       "    <tr>\n",
       "      <th>9996</th>\n",
       "      <td>2</td>\n",
       "      <td>0.97</td>\n",
       "    </tr>\n",
       "    <tr>\n",
       "      <th>9997</th>\n",
       "      <td>1</td>\n",
       "      <td>0.98</td>\n",
       "    </tr>\n",
       "    <tr>\n",
       "      <th>9998</th>\n",
       "      <td>2</td>\n",
       "      <td>0.97</td>\n",
       "    </tr>\n",
       "    <tr>\n",
       "      <th>9999</th>\n",
       "      <td>0</td>\n",
       "      <td>1.00</td>\n",
       "    </tr>\n",
       "  </tbody>\n",
       "</table>\n",
       "<p>10000 rows × 2 columns</p>\n",
       "</div>"
      ],
      "text/plain": [
       "      Age_group  Delta\n",
       "0             0   1.00\n",
       "1             0   1.00\n",
       "2             0   1.00\n",
       "3             1   0.98\n",
       "4             0   1.00\n",
       "...         ...    ...\n",
       "9995          2   0.97\n",
       "9996          2   0.97\n",
       "9997          1   0.98\n",
       "9998          2   0.97\n",
       "9999          0   1.00\n",
       "\n",
       "[10000 rows x 2 columns]"
      ]
     },
     "execution_count": 115,
     "metadata": {},
     "output_type": "execute_result"
    }
   ],
   "source": [
    "agents_delta_value_df"
   ]
  },
  {
   "cell_type": "code",
   "execution_count": 116,
   "id": "b8236872",
   "metadata": {},
   "outputs": [],
   "source": [
    "agents_delta_value_df['day_1'] = availability_df['day_1']"
   ]
  },
  {
   "cell_type": "code",
   "execution_count": 117,
   "id": "dba86bd7",
   "metadata": {},
   "outputs": [],
   "source": [
    "agents_delta_value_df = agents_delta_value_df[agents_delta_value_df.day_1 != 0]"
   ]
  },
  {
   "cell_type": "code",
   "execution_count": 118,
   "id": "87c6a2fb",
   "metadata": {},
   "outputs": [],
   "source": [
    "age_2 = agents_delta_value_df[agents_delta_value_df.Age_group == 2]"
   ]
  },
  {
   "cell_type": "code",
   "execution_count": 119,
   "id": "3f3ebafb",
   "metadata": {},
   "outputs": [
    {
     "data": {
      "text/plain": [
       "615"
      ]
     },
     "execution_count": 119,
     "metadata": {},
     "output_type": "execute_result"
    }
   ],
   "source": [
    "len(age_2.Age_group)"
   ]
  },
  {
   "cell_type": "code",
   "execution_count": 120,
   "id": "243d7cbf",
   "metadata": {},
   "outputs": [],
   "source": [
    "#importing hospitals data\n",
    "daily_supply_df = pd.read_pickle('data/daily_supply.pkl')\n",
    "overall_quota_df = pd.read_pickle('data/overall_quota.pkl')\n",
    "Hospital_Data_Chennai_May_2022_df = pd.read_pickle('data/Hospital_Data_Chennai_May_2022.pkl')"
   ]
  },
  {
   "cell_type": "code",
   "execution_count": 121,
   "id": "3d29a85c",
   "metadata": {},
   "outputs": [],
   "source": [
    "belongingness_df = pd.read_pickle('data/belongingness_df.pkl')"
   ]
  },
  {
   "cell_type": "code",
   "execution_count": 122,
   "id": "fa8714d8",
   "metadata": {},
   "outputs": [],
   "source": [
    "hosps1 = belongingness_df[[603898,617607,855907]]"
   ]
  },
  {
   "cell_type": "code",
   "execution_count": 123,
   "id": "7fab5d9e",
   "metadata": {},
   "outputs": [],
   "source": [
    "hosps1 = hosps1.copy()"
   ]
  },
  {
   "cell_type": "code",
   "execution_count": 124,
   "id": "5b63561b",
   "metadata": {},
   "outputs": [],
   "source": [
    "hosps1['Age'] = agents_delta_value_df['Age_group']"
   ]
  },
  {
   "cell_type": "code",
   "execution_count": 125,
   "id": "86710ad5",
   "metadata": {},
   "outputs": [
    {
     "data": {
      "text/html": [
       "<div>\n",
       "<style scoped>\n",
       "    .dataframe tbody tr th:only-of-type {\n",
       "        vertical-align: middle;\n",
       "    }\n",
       "\n",
       "    .dataframe tbody tr th {\n",
       "        vertical-align: top;\n",
       "    }\n",
       "\n",
       "    .dataframe thead th {\n",
       "        text-align: right;\n",
       "    }\n",
       "</style>\n",
       "<table border=\"1\" class=\"dataframe\">\n",
       "  <thead>\n",
       "    <tr style=\"text-align: right;\">\n",
       "      <th></th>\n",
       "      <th>603898</th>\n",
       "      <th>617607</th>\n",
       "      <th>855907</th>\n",
       "      <th>Age</th>\n",
       "    </tr>\n",
       "  </thead>\n",
       "  <tbody>\n",
       "    <tr>\n",
       "      <th>0</th>\n",
       "      <td>0</td>\n",
       "      <td>0</td>\n",
       "      <td>0</td>\n",
       "      <td>NaN</td>\n",
       "    </tr>\n",
       "    <tr>\n",
       "      <th>1</th>\n",
       "      <td>1</td>\n",
       "      <td>0</td>\n",
       "      <td>0</td>\n",
       "      <td>0.0</td>\n",
       "    </tr>\n",
       "    <tr>\n",
       "      <th>2</th>\n",
       "      <td>1</td>\n",
       "      <td>0</td>\n",
       "      <td>0</td>\n",
       "      <td>0.0</td>\n",
       "    </tr>\n",
       "    <tr>\n",
       "      <th>3</th>\n",
       "      <td>0</td>\n",
       "      <td>1</td>\n",
       "      <td>0</td>\n",
       "      <td>1.0</td>\n",
       "    </tr>\n",
       "    <tr>\n",
       "      <th>4</th>\n",
       "      <td>1</td>\n",
       "      <td>0</td>\n",
       "      <td>0</td>\n",
       "      <td>NaN</td>\n",
       "    </tr>\n",
       "    <tr>\n",
       "      <th>...</th>\n",
       "      <td>...</td>\n",
       "      <td>...</td>\n",
       "      <td>...</td>\n",
       "      <td>...</td>\n",
       "    </tr>\n",
       "    <tr>\n",
       "      <th>9995</th>\n",
       "      <td>0</td>\n",
       "      <td>1</td>\n",
       "      <td>0</td>\n",
       "      <td>NaN</td>\n",
       "    </tr>\n",
       "    <tr>\n",
       "      <th>9996</th>\n",
       "      <td>1</td>\n",
       "      <td>0</td>\n",
       "      <td>0</td>\n",
       "      <td>NaN</td>\n",
       "    </tr>\n",
       "    <tr>\n",
       "      <th>9997</th>\n",
       "      <td>0</td>\n",
       "      <td>0</td>\n",
       "      <td>0</td>\n",
       "      <td>1.0</td>\n",
       "    </tr>\n",
       "    <tr>\n",
       "      <th>9998</th>\n",
       "      <td>1</td>\n",
       "      <td>0</td>\n",
       "      <td>0</td>\n",
       "      <td>2.0</td>\n",
       "    </tr>\n",
       "    <tr>\n",
       "      <th>9999</th>\n",
       "      <td>1</td>\n",
       "      <td>0</td>\n",
       "      <td>0</td>\n",
       "      <td>0.0</td>\n",
       "    </tr>\n",
       "  </tbody>\n",
       "</table>\n",
       "<p>10000 rows × 4 columns</p>\n",
       "</div>"
      ],
      "text/plain": [
       "      603898  617607  855907  Age\n",
       "0          0       0       0  NaN\n",
       "1          1       0       0  0.0\n",
       "2          1       0       0  0.0\n",
       "3          0       1       0  1.0\n",
       "4          1       0       0  NaN\n",
       "...      ...     ...     ...  ...\n",
       "9995       0       1       0  NaN\n",
       "9996       1       0       0  NaN\n",
       "9997       0       0       0  1.0\n",
       "9998       1       0       0  2.0\n",
       "9999       1       0       0  0.0\n",
       "\n",
       "[10000 rows x 4 columns]"
      ]
     },
     "execution_count": 125,
     "metadata": {},
     "output_type": "execute_result"
    }
   ],
   "source": [
    "hosps1"
   ]
  },
  {
   "cell_type": "code",
   "execution_count": 130,
   "id": "082904b6",
   "metadata": {},
   "outputs": [],
   "source": [
    "hosp2 = hosps1[hosps1.Age == 2]"
   ]
  },
  {
   "cell_type": "code",
   "execution_count": 131,
   "id": "d694a853",
   "metadata": {},
   "outputs": [
    {
     "data": {
      "text/plain": [
       "603898     213.0\n",
       "617607      68.0\n",
       "855907      28.0\n",
       "Age       1230.0\n",
       "dtype: float64"
      ]
     },
     "execution_count": 131,
     "metadata": {},
     "output_type": "execute_result"
    }
   ],
   "source": [
    "hosp2.sum(axis = 0)"
   ]
  },
  {
   "cell_type": "code",
   "execution_count": 162,
   "id": "6d05af2b",
   "metadata": {},
   "outputs": [],
   "source": [
    "hosp2 = hosp2.copy()"
   ]
  },
  {
   "cell_type": "code",
   "execution_count": 166,
   "id": "79501cb8",
   "metadata": {},
   "outputs": [],
   "source": [
    "hosps1['day_1'] = availability_df['day_1']"
   ]
  },
  {
   "cell_type": "code",
   "execution_count": 185,
   "id": "ee04f2ab",
   "metadata": {},
   "outputs": [],
   "source": [
    "hosp3 = hosps1[hosps1.Age ==0]"
   ]
  },
  {
   "cell_type": "code",
   "execution_count": 186,
   "id": "64590713",
   "metadata": {},
   "outputs": [],
   "source": [
    "hosp3 = hosp3.copy()"
   ]
  },
  {
   "cell_type": "code",
   "execution_count": 187,
   "id": "df6cdfe8",
   "metadata": {},
   "outputs": [
    {
     "data": {
      "text/plain": [
       "603898    1123\n",
       "617607     451\n",
       "855907     169\n",
       "Age          0\n",
       "day_1     3355\n",
       "dtype: int64"
      ]
     },
     "execution_count": 187,
     "metadata": {},
     "output_type": "execute_result"
    }
   ],
   "source": [
    "hosp3[hosp3.day_1 == 1].sum(axis = 0)"
   ]
  },
  {
   "cell_type": "code",
   "execution_count": null,
   "id": "c02b76d7",
   "metadata": {},
   "outputs": [],
   "source": []
  }
 ],
 "metadata": {
  "kernelspec": {
   "display_name": "Python 3 (ipykernel)",
   "language": "python",
   "name": "python3"
  },
  "language_info": {
   "codemirror_mode": {
    "name": "ipython",
    "version": 3
   },
   "file_extension": ".py",
   "mimetype": "text/x-python",
   "name": "python",
   "nbconvert_exporter": "python",
   "pygments_lexer": "ipython3",
   "version": "3.10.5"
  }
 },
 "nbformat": 4,
 "nbformat_minor": 5
}

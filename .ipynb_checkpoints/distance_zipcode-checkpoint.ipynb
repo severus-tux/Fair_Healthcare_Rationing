{
 "cells": [
  {
   "cell_type": "code",
   "execution_count": 1,
   "id": "4a138c53",
   "metadata": {},
   "outputs": [],
   "source": [
    "import json\n",
    "import requests\n",
    "import pandas as pd"
   ]
  },
  {
   "cell_type": "code",
   "execution_count": 2,
   "id": "5e2de680",
   "metadata": {},
   "outputs": [],
   "source": [
    "hosp_df = pd.read_pickle('data/Hospital_Data_Chennai_May_2022.pkl')"
   ]
  },
  {
   "cell_type": "code",
   "execution_count": 3,
   "id": "30b97c8d",
   "metadata": {},
   "outputs": [],
   "source": [
    "zip_codes=hosp_df.Zip_Code.unique().to_list()"
   ]
  },
  {
   "cell_type": "code",
   "execution_count": 4,
   "id": "e37b78b1",
   "metadata": {},
   "outputs": [],
   "source": [
    "zip_codes.sort()"
   ]
  },
  {
   "cell_type": "code",
   "execution_count": 6,
   "id": "62051727",
   "metadata": {},
   "outputs": [
    {
     "data": {
      "text/plain": [
       "[600004,\n",
       " 600006,\n",
       " 600018,\n",
       " 600020,\n",
       " 600024,\n",
       " 600028,\n",
       " 600032,\n",
       " 600034,\n",
       " 600035,\n",
       " 600037,\n",
       " 600083,\n",
       " 600085,\n",
       " 600086,\n",
       " 600089,\n",
       " 600093,\n",
       " 600096,\n",
       " 600102,\n",
       " 600106,\n",
       " 600116]"
      ]
     },
     "execution_count": 6,
     "metadata": {},
     "output_type": "execute_result"
    }
   ],
   "source": [
    "zip_codes"
   ]
  },
  {
   "cell_type": "code",
   "execution_count": 17,
   "id": "3e2a20c5",
   "metadata": {},
   "outputs": [],
   "source": [
    "distance_dict = {}\n",
    "for i in zip_codes:\n",
    "    for j in zip_codes:\n",
    "        if (j>i):\n",
    "            url = \"https://maps.googleapis.com/maps/api/distancematrix/json?origins=\"+str(i)+\"&destinations=\"+str(j)+\"&key=IAmNotGivingMyKey-GetYourOwnKey\"\n",
    "            payload={}\n",
    "            headers = {}\n",
    "            # print(url)\n",
    "            response = requests.request(\"GET\", url, headers=headers, data=payload)\n",
    "            response_json = response.json()\n",
    "            distance_dict[(i,j)]=response_json['rows'][0]['elements'][0]['distance']['value']"
   ]
  },
  {
   "cell_type": "code",
   "execution_count": 19,
   "id": "2a562988",
   "metadata": {},
   "outputs": [],
   "source": [
    "distance_data=[]\n",
    "for (i,j) in distance_dict:\n",
    "#     print(i,j,distance_dict[(i,j)])\n",
    "    distance_data.append([i,j,distance_dict[(i,j)]])\n",
    "\n",
    "distance_data_df = pd.DataFrame(distance_data, columns=['Source', 'Destination', 'Distance'])\n",
    "\n",
    "distance_data_df.to_pickle('Distance_Data.pkl')"
   ]
  },
  {
   "cell_type": "code",
   "execution_count": null,
   "id": "902f05b3",
   "metadata": {},
   "outputs": [],
   "source": []
  }
 ],
 "metadata": {
  "kernelspec": {
   "display_name": "Python 3 (ipykernel)",
   "language": "python",
   "name": "python3"
  },
  "language_info": {
   "codemirror_mode": {
    "name": "ipython",
    "version": 3
   },
   "file_extension": ".py",
   "mimetype": "text/x-python",
   "name": "python",
   "nbconvert_exporter": "python",
   "pygments_lexer": "ipython3",
   "version": "3.10.8"
  }
 },
 "nbformat": 4,
 "nbformat_minor": 5
}
